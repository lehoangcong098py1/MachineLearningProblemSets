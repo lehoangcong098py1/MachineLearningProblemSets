{
 "cells": [
  {
   "cell_type": "code",
   "execution_count": null,
   "metadata": {},
   "outputs": [],
   "source": [
    "#solution1\n",
    "if __name__ == '__main__':\n",
    "    print \"Hello, World!\""
   ]
  },
  {
   "cell_type": "code",
   "execution_count": null,
   "metadata": {},
   "outputs": [],
   "source": [
    "#solution2\n",
    "#!/bin/python\n",
    "\n",
    "import math\n",
    "import os\n",
    "import random\n",
    "import re\n",
    "import sys\n",
    "\n",
    "\n",
    "\n",
    "if __name__ == '__main__':\n",
    "    n = int(raw_input().strip())\n",
    "if(n%2==1):\n",
    "    print(\"Weird\")\n",
    "if(n%2==0 and n>=2 and n<=5):\n",
    "    print(\"Not Weird\");\n",
    "if(n%2==0 and n>=6 and n<=20):\n",
    "    print(\"Weird\")\n",
    "if(n%2==0 and n>20):\n",
    "    print(\"Not Weird\")"
   ]
  },
  {
   "cell_type": "code",
   "execution_count": null,
   "metadata": {},
   "outputs": [],
   "source": [
    "#solution3\n",
    "if __name__ == '__main__':\n",
    "    a = int(raw_input())\n",
    "    b = int(raw_input())\n",
    "print(a+b)\n",
    "print(a-b)\n",
    "print(a*b)"
   ]
  },
  {
   "cell_type": "code",
   "execution_count": null,
   "metadata": {},
   "outputs": [],
   "source": [
    "#solution4\n",
    "from __future__ import division\n",
    "\n",
    "if __name__ == '__main__':\n",
    "    a = int(raw_input())\n",
    "    b = int(raw_input())\n",
    "print(a//b)\n",
    "print(a/b)"
   ]
  },
  {
   "cell_type": "code",
   "execution_count": null,
   "metadata": {},
   "outputs": [],
   "source": [
    "#solution5\n",
    "if __name__ == '__main__':\n",
    "    n = int(raw_input())\n",
    "for x in range(0,n):\n",
    "    print(x*x)"
   ]
  },
  {
   "cell_type": "code",
   "execution_count": null,
   "metadata": {},
   "outputs": [],
   "source": [
    "#solution6\n",
    "def is_leap(year):\n",
    "    leap = False\n",
    "    \n",
    "    if(year%4==0 and year%100!=0):\n",
    "      leap=True;\n",
    "    if(year%400==0):\n",
    "      leap=True;\n",
    "    return leap"
   ]
  },
  {
   "cell_type": "code",
   "execution_count": null,
   "metadata": {},
   "outputs": [],
   "source": [
    "#solution7\n",
    "from __future__ import print_function\n",
    "\n",
    "if __name__ == '__main__':\n",
    "    n = int(raw_input())\n",
    "s=0;\n",
    "for x in range(1,n+1):\n",
    "    print(x,end='');"
   ]
  },
  {
   "cell_type": "code",
   "execution_count": null,
   "metadata": {},
   "outputs": [],
   "source": [
    "#Solution_SQL"
   ]
  },
  {
   "cell_type": "code",
   "execution_count": null,
   "metadata": {},
   "outputs": [],
   "source": [
    "#Revising the Select Query I\n",
    "select * \n",
    "from city\n",
    "where countrycode='USA' and population>100000"
   ]
  },
  {
   "cell_type": "code",
   "execution_count": null,
   "metadata": {},
   "outputs": [],
   "source": [
    "#Revising the Select Query II\n",
    "select name\n",
    "from city\n",
    "where countrycode='USA' and population>120000"
   ]
  },
  {
   "cell_type": "code",
   "execution_count": null,
   "metadata": {},
   "outputs": [],
   "source": [
    "#Select All\n",
    "select *\n",
    "from city"
   ]
  },
  {
   "cell_type": "code",
   "execution_count": null,
   "metadata": {},
   "outputs": [],
   "source": [
    "#Select By ID\n",
    "select *\n",
    "from city\n",
    "where ID=1661"
   ]
  },
  {
   "cell_type": "code",
   "execution_count": null,
   "metadata": {},
   "outputs": [],
   "source": [
    "#Japanese Cities' Attributes\n",
    "select *\n",
    "from city\n",
    "where countrycode='JPN'"
   ]
  },
  {
   "cell_type": "code",
   "execution_count": null,
   "metadata": {},
   "outputs": [],
   "source": [
    "#Japanese Cities' Names\n",
    "select name\n",
    "from city\n",
    "where countrycode='JPN'"
   ]
  },
  {
   "cell_type": "code",
   "execution_count": null,
   "metadata": {},
   "outputs": [],
   "source": [
    "#Weather Observation Station 1\n",
    "/*\n",
    "Enter your query here.\n",
    "*/\n",
    "select city,state\n",
    "from station"
   ]
  },
  {
   "cell_type": "code",
   "execution_count": null,
   "metadata": {},
   "outputs": [],
   "source": [
    "#Weather Observation Station 3\n",
    "/*\n",
    "Enter your query here.\n",
    "*/\n",
    "select distinct city\n",
    "from station\n",
    "where mod(id,2)=0"
   ]
  },
  {
   "cell_type": "code",
   "execution_count": null,
   "metadata": {},
   "outputs": [],
   "source": [
    "#Weather Observation Station 4\n",
    "/*\n",
    "Enter your query here.\n",
    "Please append a semicolon \";\" at the end of the query and enter your query in a single line to avoid error.\n",
    "*/\n",
    "select count(city)-count(distinct city)\n",
    "from station"
   ]
  },
  {
   "cell_type": "code",
   "execution_count": null,
   "metadata": {},
   "outputs": [],
   "source": [
    "#Weather Observation Station 5\n",
    "select *\n",
    "from (select city,soluong\n",
    "from station,(select id, length(city) as soluong from station) as tam\n",
    "where station.id= tam.id\n",
    "order by soluong, city\n",
    "limit 0,1) as tam1\n",
    "union \n",
    "select*\n",
    "from (select city,soluong\n",
    "from station,(select id, length(city) as soluong from station) as tam\n",
    "where station.id= tam.id\n",
    "order by soluong desc, city\n",
    "limit 0,1) as tam2"
   ]
  },
  {
   "cell_type": "code",
   "execution_count": null,
   "metadata": {},
   "outputs": [],
   "source": [
    "#Weather Observation Station 6\n",
    "select distinct city\n",
    "from station\n",
    "where left(city,1)='a' or left(city,1)='e' or left(city,1)='i' or left(city,1)='o' or left(city,1)='u'"
   ]
  },
  {
   "cell_type": "code",
   "execution_count": null,
   "metadata": {},
   "outputs": [],
   "source": [
    "#Weather Observation Station 7\n",
    "select distinct city\n",
    "from station\n",
    "where right(city,1)='a' or right(city,1)='e' or right(city,1)='i' or right(city,1)='o' or right(city,1)='u'"
   ]
  },
  {
   "cell_type": "code",
   "execution_count": null,
   "metadata": {},
   "outputs": [],
   "source": [
    "#Weather Observation Station 8\n",
    "select distinct city\n",
    "from station\n",
    "where (left(city,1)='a' or left(city,1)='e' or left(city,1)='i' or left(city,1)='o' or left(city,1)='u') and (right(city,1)='a' or right(city,1)='e' or right(city,1)='i' or right(city,1)='o' or right(city,1)='u')"
   ]
  },
  {
   "cell_type": "code",
   "execution_count": null,
   "metadata": {},
   "outputs": [],
   "source": [
    "#Weather Observation Station 9\n",
    "/*\n",
    "Enter your query here.\n",
    "*/\n",
    "select distinct city\n",
    "from station\n",
    "where left(city,1) not in ('a','e','i','u','o') "
   ]
  },
  {
   "cell_type": "code",
   "execution_count": null,
   "metadata": {},
   "outputs": [],
   "source": [
    "#Weather Observation Station 10\n",
    "select distinct city\n",
    "from station\n",
    "where right(city,1) not in ('a','e','i','u','o') "
   ]
  },
  {
   "cell_type": "code",
   "execution_count": null,
   "metadata": {},
   "outputs": [],
   "source": [
    "#Weather Observation Station 11\n",
    "select distinct city\n",
    "from station\n",
    "where (right(city,1) not in ('a','e','i','u','o')) or (left(city,1) not in ('a','e','i','u','o'))"
   ]
  },
  {
   "cell_type": "code",
   "execution_count": null,
   "metadata": {},
   "outputs": [],
   "source": [
    "#Weather Observation Station 12\n",
    "select distinct city\n",
    "from station\n",
    "where (right(city,1) not in ('a','e','i','u','o')) and (left(city,1) not in ('a','e','i','u','o')) "
   ]
  }
 ],
 "metadata": {
  "kernelspec": {
   "display_name": "Python 3",
   "language": "python",
   "name": "python3"
  },
  "language_info": {
   "codemirror_mode": {
    "name": "ipython",
    "version": 3
   },
   "file_extension": ".py",
   "mimetype": "text/x-python",
   "name": "python",
   "nbconvert_exporter": "python",
   "pygments_lexer": "ipython3",
   "version": "3.7.3"
  }
 },
 "nbformat": 4,
 "nbformat_minor": 2
}
